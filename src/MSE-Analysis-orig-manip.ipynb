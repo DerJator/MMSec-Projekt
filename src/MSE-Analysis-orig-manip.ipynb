{
 "cells": [
  {
   "cell_type": "code",
   "execution_count": 1,
   "id": "initial_id",
   "metadata": {
    "collapsed": true,
    "ExecuteTime": {
     "end_time": "2024-05-21T18:03:02.246660Z",
     "start_time": "2024-05-21T18:03:00.381435Z"
    }
   },
   "outputs": [],
   "source": [
    "from src.first_compressions import *\n"
   ]
  },
  {
   "cell_type": "code",
   "outputs": [
    {
     "ename": "FileNotFoundError",
     "evalue": "[Errno 2] No such file or directory: './images/own_manipulations_COCO/edited_images/vehicles/'",
     "output_type": "error",
     "traceback": [
      "\u001B[0;31m---------------------------------------------------------------------------\u001B[0m",
      "\u001B[0;31mFileNotFoundError\u001B[0m                         Traceback (most recent call last)",
      "Cell \u001B[0;32mIn[2], line 5\u001B[0m\n\u001B[1;32m      3\u001B[0m work_dir \u001B[38;5;241m=\u001B[39m \u001B[38;5;124mf\u001B[39m\u001B[38;5;124m\"\u001B[39m\u001B[38;5;124m./images/own_manipulations_COCO/edited_images/\u001B[39m\u001B[38;5;132;01m{\u001B[39;00mimage_set\u001B[38;5;132;01m}\u001B[39;00m\u001B[38;5;124m/\u001B[39m\u001B[38;5;124m\"\u001B[39m\n\u001B[1;32m      4\u001B[0m original_path \u001B[38;5;241m=\u001B[39m \u001B[38;5;124mf\u001B[39m\u001B[38;5;124m\"\u001B[39m\u001B[38;5;124m./images/own_manipulations_COCO/\u001B[39m\u001B[38;5;132;01m{\u001B[39;00mimage_set\u001B[38;5;132;01m}\u001B[39;00m\u001B[38;5;124m/\u001B[39m\u001B[38;5;124m\"\u001B[39m\n\u001B[0;32m----> 5\u001B[0m fraud_img_files \u001B[38;5;241m=\u001B[39m \u001B[43mos\u001B[49m\u001B[38;5;241;43m.\u001B[39;49m\u001B[43mlistdir\u001B[49m\u001B[43m(\u001B[49m\u001B[43mwork_dir\u001B[49m\u001B[43m)\u001B[49m\n\u001B[1;32m      6\u001B[0m test_img_paths \u001B[38;5;241m=\u001B[39m [work_dir \u001B[38;5;241m+\u001B[39m s \u001B[38;5;28;01mfor\u001B[39;00m s \u001B[38;5;129;01min\u001B[39;00m fraud_img_files \u001B[38;5;28;01mif\u001B[39;00m s\u001B[38;5;241m.\u001B[39mendswith(\u001B[38;5;124m\"\u001B[39m\u001B[38;5;124m.jpg\u001B[39m\u001B[38;5;124m\"\u001B[39m)]\n\u001B[1;32m      7\u001B[0m original_img_paths \u001B[38;5;241m=\u001B[39m [original_path \u001B[38;5;241m+\u001B[39m s \u001B[38;5;28;01mfor\u001B[39;00m s \u001B[38;5;129;01min\u001B[39;00m fraud_img_files \u001B[38;5;28;01mif\u001B[39;00m s\u001B[38;5;241m.\u001B[39mendswith(\u001B[38;5;124m\"\u001B[39m\u001B[38;5;124m.jpg\u001B[39m\u001B[38;5;124m\"\u001B[39m)]\n",
      "\u001B[0;31mFileNotFoundError\u001B[0m: [Errno 2] No such file or directory: './images/own_manipulations_COCO/edited_images/vehicles/'"
     ]
    }
   ],
   "source": [
    "test_img_path = \"./images/wallpaper.jpg\"\n",
    "image_set = \"vehicles\"\n",
    "work_dir = f\"./images/own_manipulations_COCO/edited_images/{image_set}/\"\n",
    "original_path = f\"./images/own_manipulations_COCO/{image_set}/\"\n",
    "fraud_img_files = os.listdir(work_dir)\n",
    "test_img_paths = [work_dir + s for s in fraud_img_files if s.endswith(\".jpg\")]\n",
    "original_img_paths = [original_path + s for s in fraud_img_files if s.endswith(\".jpg\")]\n",
    "\n",
    "cheng_model = cai.zoo.cheng2020_anchor(6, pretrained=True)\n",
    "cheng_model.update()"
   ],
   "metadata": {
    "collapsed": false,
    "ExecuteTime": {
     "end_time": "2024-05-21T18:03:02.584697Z",
     "start_time": "2024-05-21T18:03:02.247599Z"
    }
   },
   "id": "deec95d358cf904b",
   "execution_count": 2
  },
  {
   "cell_type": "code",
   "outputs": [],
   "source": [
    "n_assess = 20\n",
    "\n",
    "max_mse_channels = assess_manipulated_images(original_img_paths, test_img_paths, cheng_model,                                    n_assess_dims=n_assess, plot_dims=[179, 185, 55])\n",
    "\n",
    "plot_max_mse_channels(max_mse_channels, n_assess)\n"
   ],
   "metadata": {
    "collapsed": false
   },
   "id": "43f3cd8f038394e1",
   "execution_count": null
  },
  {
   "cell_type": "code",
   "outputs": [],
   "source": [],
   "metadata": {
    "collapsed": false
   },
   "id": "702c1f4ec2918eae",
   "execution_count": null
  }
 ],
 "metadata": {
  "kernelspec": {
   "display_name": "Python 3",
   "language": "python",
   "name": "python3"
  },
  "language_info": {
   "codemirror_mode": {
    "name": "ipython",
    "version": 2
   },
   "file_extension": ".py",
   "mimetype": "text/x-python",
   "name": "python",
   "nbconvert_exporter": "python",
   "pygments_lexer": "ipython2",
   "version": "2.7.6"
  }
 },
 "nbformat": 4,
 "nbformat_minor": 5
}
